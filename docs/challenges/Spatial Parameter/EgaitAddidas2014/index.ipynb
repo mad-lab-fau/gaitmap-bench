{
 "cells": [
  {
   "cell_type": "markdown",
   "id": "8f9d855f-c79c-40b5-9e4c-9732f0a91ea7",
   "metadata": {
    "editable": true,
    "slideshow": {
     "slide_type": ""
    },
    "tags": []
   },
   "source": [
    "# EgaitAddidas2014 - Stride Length"
   ]
  },
  {
   "cell_type": "markdown",
   "id": "65ef144e-8304-480a-9b42-c9a8fabbb531",
   "metadata": {
    "editable": true,
    "slideshow": {
     "slide_type": ""
    },
    "tags": []
   },
   "source": []
  },
  {
   "cell_type": "markdown",
   "id": "955ca54e-00c4-498c-a302-ec1d0069ff03",
   "metadata": {
    "editable": true,
    "slideshow": {
     "slide_type": ""
    },
    "tags": []
   },
   "source": [
    "## Algorithms"
   ]
  },
  {
   "cell_type": "code",
   "execution_count": null,
   "id": "69d9f650-6ccd-435e-a56f-473a27d1f525",
   "metadata": {
    "editable": true,
    "slideshow": {
     "slide_type": ""
    },
    "tags": [
     "hide-input",
     "full-width"
    ]
   },
   "outputs": [],
   "source": [
    "from myst_nb_bokeh import glue_bokeh\n",
    "\n",
    "from gaitmap_bench import config, is_config_set\n",
    "from gaitmap_bench.docu_utils import set_docs_config\n",
    "from gaitmap_challenges.spatial_parameters.egait_adidas_2014 import Challenge\n",
    "from gaitmap_challenges.results import load_run, get_latest_result, filter_results, get_all_results_path, \\\n",
    "    generate_overview_table\n",
    "from gaitmap_challenges.visualization import SingleMetricBoxplot, group_by_data_label\n",
    "\n",
    "is_config_set() or set_docs_config()\n",
    "all_runs = get_all_results_path(Challenge, config().results_dir)\n",
    "all_runs = filter_results(all_runs, challenge_version=Challenge.VERSION, is_debug_run=None)\n",
    "latest_runs = get_latest_result(all_runs)\n",
    "generate_overview_table(latest_runs).set_index(\"Entry\").T"
   ]
  },
  {
   "cell_type": "markdown",
   "id": "c078689d-ad34-463d-b4ed-2c12a1dc66fb",
   "metadata": {
    "editable": true,
    "slideshow": {
     "slide_type": ""
    },
    "tags": []
   },
   "source": [
    "## Absolute Errors of the Mean\n",
    "\n",
    "The main outcome are the absolute errors of the mean gait parameters.\n",
    "This means one error value per gait test is calculated.\n",
    "The first plot pools all datapoints across all 5 test folds.\n",
    "\n",
    "The second plot presents the mean absolute error over each fold.\n",
    "\n",
    "### Results per Participant and Test"
   ]
  },
  {
   "cell_type": "markdown",
   "id": "71dcb244",
   "metadata": {},
   "source": [
    "#### Stride Length Error Grouped by Sensor"
   ]
  },
  {
   "cell_type": "code",
   "execution_count": null,
   "id": "08619e50-fb32-4c95-bd92-63cd10e7486a",
   "metadata": {
    "editable": true,
    "slideshow": {
     "slide_type": ""
    },
    "tags": [
     "hide-input"
    ]
   },
   "outputs": [],
   "source": [
    "from gaitmap_bench.docu_utils import glue_bokeh_md, tabs\n",
    "from myst_nb import glue\n",
    "from IPython.display import Markdown\n",
    "\n",
    "run_info = {k: load_run(Challenge, v) for k, v in latest_runs.items()}\n",
    "cv_results = {k: v.results[\"cv_results\"]  for k, v in run_info.items()}\n",
    "\n",
    "tab_items = {}\n",
    "metrics = {\n",
    "    \"Mean Absolute Error\": \"abs_error_mean\",\n",
    "    \"Mean Absolute Relative Error\": \"abs_rel_error_mean\",\n",
    "    \"Mean Error\": \"error_mean\",\n",
    "    \"Mean Relative Error\": \"rel_error_mean\",\n",
    "}\n",
    "\n",
    "for name, metric in metrics.items():\n",
    "    p = SingleMetricBoxplot(cv_results, metric, \"single\", overlay_scatter=True, label_grouper=group_by_data_label(level=\"sensor\", include_all=\"Combined\"))\n",
    "    glue_name = f\"single_sensor_{metric}\"\n",
    "    glue_bokeh(glue_name, p.bokeh())\n",
    "    tab_items[name] = glue_bokeh_md(glue_name)\n",
    "\n",
    "glue(\"single_results_by_sensor\", Markdown(tabs(tab_items, class_str=\"full-width\")), display=False)"
   ]
  },
  {
   "cell_type": "markdown",
   "id": "f9634c36-4cdc-45cb-899a-df26041dfeb2",
   "metadata": {
    "editable": true,
    "slideshow": {
     "slide_type": ""
    },
    "tags": []
   },
   "source": [
    ":::{glue:md} single_results_by_sensor\n",
    ":format: myst\n",
    ":::"
   ]
  },
  {
   "cell_type": "markdown",
   "id": "87746530",
   "metadata": {},
   "source": [
    "#### Stride Length Error Grouped by Speed"
   ]
  },
  {
   "cell_type": "code",
   "execution_count": null,
   "id": "9d3749d7",
   "metadata": {},
   "outputs": [],
   "source": [
    "for name, metric in metrics.items():\n",
    "    p = SingleMetricBoxplot(cv_results, metric, \"single\", overlay_scatter=True, label_grouper=group_by_data_label(level=\"stride_velocity\", include_all=\"Combined\"))\n",
    "    glue_name = f\"single_stride_velocity_{metric}\"\n",
    "    glue_bokeh(glue_name, p.bokeh())\n",
    "    tab_items[name] = glue_bokeh_md(glue_name)\n",
    "\n",
    "glue(\"single_results_by_speed\", Markdown(tabs(tab_items, class_str=\"full-width\")), display=False)"
   ]
  },
  {
   "cell_type": "markdown",
   "id": "12e92c19",
   "metadata": {},
   "source": [
    "#### Stride Length Error Grouped by Stride Length"
   ]
  },
  {
   "cell_type": "markdown",
   "id": "25919ab5",
   "metadata": {},
   "source": [
    ":::{glue:md} single_results_by_speed\n",
    ":format: myst\n",
    ":::"
   ]
  },
  {
   "cell_type": "code",
   "execution_count": null,
   "id": "9da6a8a3",
   "metadata": {},
   "outputs": [],
   "source": [
    "for name, metric in metrics.items():\n",
    "    p = SingleMetricBoxplot(cv_results, metric, \"single\", overlay_scatter=True, label_grouper=group_by_data_label(level=\"stride_length\", include_all=\"Combined\"))\n",
    "    glue_name = f\"single_stride_length_{metric}\"\n",
    "    glue_bokeh(glue_name, p.bokeh())\n",
    "    tab_items[name] = glue_bokeh_md(glue_name)\n",
    "\n",
    "glue(\"single_results_by_sl\", Markdown(tabs(tab_items, class_str=\"full-width\")), display=False)"
   ]
  },
  {
   "cell_type": "markdown",
   "id": "0c2218d4",
   "metadata": {},
   "source": [
    ":::{glue:md} single_results_by_sl\n",
    ":format: myst\n",
    ":::"
   ]
  },
  {
   "cell_type": "markdown",
   "id": "4743dbd6-5697-4ea7-a471-f142d39df9a6",
   "metadata": {
    "editable": true,
    "slideshow": {
     "slide_type": ""
    },
    "tags": []
   },
   "source": [
    "### Results per CV Fold\n",
    "\n",
    "These errors are calculated accross all strides without aggregating first per trail"
   ]
  },
  {
   "cell_type": "code",
   "execution_count": null,
   "id": "c1117fb2-613a-469b-b77b-69815c4b0047",
   "metadata": {
    "editable": true,
    "slideshow": {
     "slide_type": ""
    },
    "tags": [
     "hide-input"
    ]
   },
   "outputs": [],
   "source": [
    "\n",
    "tab_items = {}\n",
    "\n",
    "for name, metric in metrics.items():\n",
    "    p = SingleMetricBoxplot(cv_results, f\"per_stride__{metric}\", \"fold\", overlay_scatter=True)\n",
    "    glue_name = f\"fold_{metric}\"\n",
    "    glue_bokeh(glue_name, p.bokeh())\n",
    "    tab_items[name] = glue_bokeh_md(glue_name)\n",
    "\n",
    "glue(\"fold_results\", Markdown(tabs(tab_items, class_str=\"full-width\")), display=False)"
   ]
  },
  {
   "cell_type": "markdown",
   "id": "8cb0dff8",
   "metadata": {
    "editable": true,
    "slideshow": {
     "slide_type": ""
    },
    "tags": []
   },
   "source": [
    ":::{glue:md} fold_results\n",
    ":format: myst\n",
    ":::"
   ]
  }
 ],
 "metadata": {
  "jupytext": {
   "cell_metadata_filter": "-all",
   "main_language": "python",
   "notebook_metadata_filter": "-all"
  },
  "kernelspec": {
   "display_name": "gaitmap_bench",
   "language": "python",
   "name": "gaitmap_bench"
  },
  "language_info": {
   "codemirror_mode": {
    "name": "ipython",
    "version": 3
   },
   "file_extension": ".py",
   "mimetype": "text/x-python",
   "name": "python",
   "nbconvert_exporter": "python",
   "pygments_lexer": "ipython3",
   "version": "3.8.16"
  }
 },
 "nbformat": 4,
 "nbformat_minor": 5
}
