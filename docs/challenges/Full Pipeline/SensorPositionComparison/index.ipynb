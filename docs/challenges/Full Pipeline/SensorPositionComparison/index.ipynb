{
 "cells": [
  {
   "cell_type": "markdown",
   "id": "8f9d855f-c79c-40b5-9e4c-9732f0a91ea7",
   "metadata": {
    "editable": true,
    "slideshow": {
     "slide_type": ""
    },
    "tags": []
   },
   "source": [
    "# SensorPositionComparison - Full Pipeline"
   ]
  },
  {
   "cell_type": "markdown",
   "id": "65ef144e-8304-480a-9b42-c9a8fabbb531",
   "metadata": {
    "editable": true,
    "slideshow": {
     "slide_type": ""
    },
    "tags": []
   },
   "source": []
  },
  {
   "cell_type": "markdown",
   "id": "955ca54e-00c4-498c-a302-ec1d0069ff03",
   "metadata": {
    "editable": true,
    "slideshow": {
     "slide_type": ""
    },
    "tags": []
   },
   "source": [
    "## Algorithms"
   ]
  },
  {
   "cell_type": "code",
   "execution_count": null,
   "id": "69d9f650-6ccd-435e-a56f-473a27d1f525",
   "metadata": {
    "editable": true,
    "slideshow": {
     "slide_type": ""
    },
    "tags": [
     "hide-input",
     "full-width"
    ]
   },
   "outputs": [],
   "source": [
    "from myst_nb_bokeh import glue_bokeh\n",
    "\n",
    "from gaitmap_bench import config, is_config_set\n",
    "from gaitmap_bench.docu_utils import set_docs_config\n",
    "from gaitmap_challenges.full_pipeline.sensor_position_comparison_instep import Challenge\n",
    "from gaitmap_challenges.results import load_run, get_latest_result, filter_results, get_all_results_path, \\\n",
    "    generate_overview_table\n",
    "from gaitmap_challenges.visualization import SingleMetricBoxplot, group_by_data_label\n",
    "\n",
    "is_config_set() or set_docs_config()\n",
    "all_runs = get_all_results_path(Challenge, config().results_dir)\n",
    "all_runs = filter_results(all_runs, challenge_version=Challenge.VERSION, is_debug_run=None)\n",
    "latest_runs = get_latest_result(all_runs)\n",
    "generate_overview_table(latest_runs).set_index(\"Entry\").T"
   ]
  },
  {
   "cell_type": "markdown",
   "id": "c078689d-ad34-463d-b4ed-2c12a1dc66fb",
   "metadata": {
    "editable": true,
    "slideshow": {
     "slide_type": ""
    },
    "tags": []
   },
   "source": [
    "## Absolute Errors of the Mean\n",
    "\n",
    "The main outcome are the absolute errors of the mean gait parameters.\n",
    "This means one error value per gait test is calculated.\n",
    "The first plot pools all datapoints across all 5 test folds.\n",
    "\n",
    "The second plot presents the mean absolute error over each fold.\n",
    "\n",
    "### Results per Participant and Test"
   ]
  },
  {
   "cell_type": "code",
   "execution_count": null,
   "id": "08619e50-fb32-4c95-bd92-63cd10e7486a",
   "metadata": {
    "editable": true,
    "slideshow": {
     "slide_type": ""
    },
    "tags": [
     "hide-input"
    ]
   },
   "outputs": [],
   "source": [
    "from gaitmap_bench.docu_utils import glue_bokeh_md, tabs\n",
    "from myst_nb import glue\n",
    "from IPython.display import Markdown\n",
    "\n",
    "run_info = {k: load_run(Challenge, v) for k, v in latest_runs.items()}\n",
    "cv_results = {k: v.results[\"cv_results\"]  for k, v in run_info.items()}\n",
    "\n",
    "tab_items = {}\n",
    "metrics = {\n",
    "    \"Gait Velocity\": \"gait_velocity\",\n",
    "    \"Stride Length\": \"stride_length\",\n",
    "    \"Stride Time\": \"stride_time\",\n",
    "    \"Swing Time\": \"swing_time\",\n",
    "}\n",
    "\n",
    "for name, metric in metrics.items():\n",
    "    p = SingleMetricBoxplot(cv_results, f\"{metric}__abs_error\", \"single\", overlay_scatter=True, label_grouper=group_by_data_label(level=\"test\", include_all=\"Combined\"))\n",
    "    glue_name = f\"single_{metric}\"\n",
    "    glue_bokeh(glue_name, p.bokeh())\n",
    "    tab_items[name] = glue_bokeh_md(glue_name)\n",
    "\n",
    "glue(\"single_results\", Markdown(tabs(tab_items, class_str=\"full-width\")), display=False)"
   ]
  },
  {
   "cell_type": "markdown",
   "id": "f9634c36-4cdc-45cb-899a-df26041dfeb2",
   "metadata": {
    "editable": true,
    "slideshow": {
     "slide_type": ""
    },
    "tags": []
   },
   "source": [
    ":::{glue:md} single_results\n",
    ":format: myst\n",
    ":::"
   ]
  },
  {
   "cell_type": "markdown",
   "id": "84edba29",
   "metadata": {},
   "source": [
    "### Results per Participant and Test (inverted)\n"
   ]
  },
  {
   "cell_type": "code",
   "execution_count": null,
   "id": "b58ca0f5",
   "metadata": {},
   "outputs": [],
   "source": [
    "for name, metric in metrics.items():\n",
    "    p = SingleMetricBoxplot(cv_results, f\"{metric}__abs_error\", \"single\", overlay_scatter=True, label_grouper=group_by_data_label(level=\"test\", include_all=\"Combined\"), invert_grouping=True)\n",
    "    glue_name = f\"single_inverted_{metric}\"\n",
    "    glue_bokeh(glue_name, p.bokeh())\n",
    "    tab_items[name] = glue_bokeh_md(glue_name)\n",
    "\n",
    "glue(\"single_inverted_results\", Markdown(tabs(tab_items, class_str=\"full-width\")), display=False)"
   ]
  },
  {
   "cell_type": "markdown",
   "id": "8d2262c1",
   "metadata": {},
   "source": [
    ":::{glue:md} single_inverted_results\n",
    ":format: myst\n",
    ":::"
   ]
  },
  {
   "cell_type": "markdown",
   "id": "4743dbd6-5697-4ea7-a471-f142d39df9a6",
   "metadata": {
    "editable": true,
    "slideshow": {
     "slide_type": ""
    },
    "tags": []
   },
   "source": [
    "### Results per CV Fold"
   ]
  },
  {
   "cell_type": "code",
   "execution_count": null,
   "id": "c1117fb2-613a-469b-b77b-69815c4b0047",
   "metadata": {
    "editable": true,
    "slideshow": {
     "slide_type": ""
    },
    "tags": [
     "hide-input"
    ]
   },
   "outputs": [],
   "source": [
    "tab_items = {}\n",
    "\n",
    "for name, metric in metrics.items():\n",
    "    p = SingleMetricBoxplot(cv_results, f\"agg__{metric}__abs_error_mean\", \"fold\", overlay_scatter=True)\n",
    "    glue_name = f\"fold_{metric}\"\n",
    "    glue_bokeh(glue_name, p.bokeh())\n",
    "    tab_items[name] = glue_bokeh_md(glue_name)\n",
    "\n",
    "glue(\"fold_results\", Markdown(tabs(tab_items, class_str=\"full-width\")), display=False)"
   ]
  },
  {
   "cell_type": "markdown",
   "id": "8cb0dff8",
   "metadata": {
    "editable": true,
    "slideshow": {
     "slide_type": ""
    },
    "tags": []
   },
   "source": [
    ":::{glue:md} fold_results\n",
    ":format: myst\n",
    ":::"
   ]
  },
  {
   "cell_type": "markdown",
   "id": "5dcae06d-c4e0-43c8-bd8c-a3e9b8a46f9b",
   "metadata": {
    "editable": true,
    "slideshow": {
     "slide_type": ""
    },
    "tags": []
   },
   "source": [
    "### Residual Plots\n",
    "\n",
    "Below residual plots for each algorithm and metric are shown to further invesqtigate the dependency of the error on the actual measurement value."
   ]
  },
  {
   "cell_type": "code",
   "execution_count": null,
   "id": "6b46ae48-b894-41ca-bc0f-4abcccfe7916",
   "metadata": {
    "editable": true,
    "slideshow": {
     "slide_type": ""
    },
    "tags": [
     "hide-input"
    ]
   },
   "outputs": [],
   "source": [
    "from gaitmap_challenges.visualization import ResidualPlot\n",
    "\n",
    "final_markdown = []\n",
    "\n",
    "for algo, results in cv_results.items():\n",
    "    tab_items = {}\n",
    "    for name, metric in metrics.items():\n",
    "        p = ResidualPlot(results, prediction_col_name=f\"{metric}__predicted\", reference_col_name=f\"{metric}__reference\", metric_name=name)\n",
    "        glue_name = f\"residual_{algo}_{metric}\"\n",
    "        glue_bokeh(glue_name, p.bokeh())\n",
    "        tab_items[name] = glue_bokeh_md(glue_name)\n",
    "    final_markdown.append(f\"#### {algo}\")\n",
    "    final_markdown.append(tabs(tab_items, class_str=\"full-width\", sync=True))\n",
    "\n",
    "glue(\"all_residual\", Markdown(\"\\n\".join(final_markdown)), display=False)"
   ]
  },
  {
   "cell_type": "markdown",
   "id": "c5bd8849-fa70-405b-9774-4143163d6591",
   "metadata": {
    "editable": true,
    "slideshow": {
     "slide_type": ""
    },
    "tags": []
   },
   "source": [
    ":::{glue:md} all_residual\n",
    ":format: myst\n",
    ":::"
   ]
  },
  {
   "cell_type": "code",
   "execution_count": null,
   "id": "7560e188-b5fd-45ed-9a0f-cc2c8da4d2c5",
   "metadata": {},
   "outputs": [],
   "source": []
  }
 ],
 "metadata": {
  "jupytext": {
   "cell_metadata_filter": "-all",
   "main_language": "python",
   "notebook_metadata_filter": "-all"
  },
  "kernelspec": {
   "display_name": "gaitmap_bench",
   "language": "python",
   "name": "gaitmap_bench"
  },
  "language_info": {
   "codemirror_mode": {
    "name": "ipython",
    "version": 3
   },
   "file_extension": ".py",
   "mimetype": "text/x-python",
   "name": "python",
   "nbconvert_exporter": "python",
   "pygments_lexer": "ipython3",
   "version": "3.8.16"
  }
 },
 "nbformat": 4,
 "nbformat_minor": 5
}
